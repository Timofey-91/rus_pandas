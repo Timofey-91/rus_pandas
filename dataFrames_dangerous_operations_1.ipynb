{
 "cells": [
  {
   "cell_type": "markdown",
   "metadata": {},
   "source": [
    "## Случай, как НЕ НАДО использовать pandas DataFrame\n",
    "\n",
    "#### Сравни два примера (А и Б). Они отличаются только строчкой с номером 26 (помечены символом \"O_o\").\n",
    "\n",
    "В первом случае присваивание происходит для объекта ts, который не крутится в цикле. \n",
    "\n",
    "Во втором варианте \"Б\", присваивание идёт в объект, который сам перебирается в цикле + сам объект ff является срезом от объекта df, который является весьма мутабельным (изменяемым типом данных по-русски).\n",
    "\n",
    "Во втором варианте, который исполняется дольше, выдаёт warnings, ещё и объект df оказался изменённым, хотя мы этого не просили (см. вывод \"DF До\" и \"DF2 После\")!\n",
    "\n",
    "> Будьте внимательны, программируйте грамотно и безопасно для себя и окружающих! Всего хорошего!\n",
    "\n",
    "`P.S. Для плохого варианта Б Spyder IDE выдаёт предупреждение`\n",
    "\n",
    "*SettingWithCopyWarning: *\n",
    "\n",
    "*A value is trying to be set on a copy of a slice from a DataFrame*\n",
    "\n",
    "*See the caveats in the documentation: http://pandas.pydata.org/pandas-docs/stable/indexing.html#indexing-view-versus-copy*\n",
    "\n",
    "   *ff[label] = pd.to_datetime(strVal)*\n",
    "   \n",
    "При этом Jupyter notebook промолчал. Именно поэтому для надёжной работы предпочтительнее IDE... "
   ]
  },
  {
   "cell_type": "code",
   "execution_count": 1,
   "metadata": {},
   "outputs": [
    {
     "name": "stdout",
     "output_type": "stream",
     "text": [
      "DF До:               0          1\n",
      "2013 2009-07-25 2007-08-10\n",
      "2014 2009-08-05 2007-08-21\n",
      "2015 2009-08-16 2007-09-01 \n",
      "\n",
      "1966   1966-02-24\n",
      "1967   1967-03-06\n",
      "1968   1968-03-17\n",
      "1969   1969-03-28\n",
      "1970   1970-04-08\n",
      "Name: 0, dtype: datetime64[ns]\n",
      "DF После:               0          1\n",
      "2013 2009-07-25 2007-08-10\n",
      "2014 2009-08-05 2007-08-21\n",
      "2015 2009-08-16 2007-09-01\n",
      "0.01400 секунд\n"
     ]
    }
   ],
   "source": [
    "# Пример \"А\"\n",
    "\n",
    "import time\n",
    "import numpy as np\n",
    "import pandas as pd\n",
    "\n",
    "time0 = time.time()\n",
    "years = np.arange(1966, 2016)\n",
    "arr = pd.Series(pd.date_range('20080224', periods=len(years), freq='11d'), index=years)\n",
    "arr2 = pd.Series(pd.date_range('20060311', periods=len(years), freq='11d'), index=years)\n",
    "\n",
    "df = pd.concat((arr, arr2), axis=1)\n",
    "print('DF До:', df.tail(3), '\\n')\n",
    "abox = {}\n",
    "for slab, j in zip(['d1', 'd2'], [-1, -2]):\n",
    "    ff = df.iloc[:, j]\n",
    "    ts = ff.copy()\n",
    "    for label, value in ff.iteritems():\n",
    "        if not pd.isnull(value):\n",
    "            strVal = '{}{}'.format(label, value.strftime('%m%d'))\n",
    "        else:\n",
    "            if cpar == 's1':\n",
    "                strVal = '{}0101'.format(label)\n",
    "            else:\n",
    "                strVal = '{}1231'.format(label)\n",
    "        ts[label] = pd.to_datetime(strVal)   # O_o\n",
    "    abox[slab] = ts        \n",
    "print(ts.head(5))\n",
    "print('DF После:', df.tail(3))\n",
    "print('{:.5f} секунд'.format(time.time() - time0))"
   ]
  },
  {
   "cell_type": "code",
   "execution_count": 2,
   "metadata": {},
   "outputs": [
    {
     "name": "stdout",
     "output_type": "stream",
     "text": [
      "DF До:               0          1\n",
      "2013 2009-07-25 2007-08-10\n",
      "2014 2009-08-05 2007-08-21\n",
      "2015 2009-08-16 2007-09-01 \n",
      "\n",
      "1966   1966-02-24\n",
      "1967   1967-03-06\n",
      "1968   1968-03-17\n",
      "1969   1969-03-28\n",
      "1970   1970-04-08\n",
      "Name: 0, dtype: datetime64[ns]\n",
      "DF После:               0          1\n",
      "2013 2013-07-25 2013-08-10\n",
      "2014 2014-08-05 2014-08-21\n",
      "2015 2015-08-16 2015-09-01\n",
      "0.02297 секунд\n"
     ]
    }
   ],
   "source": [
    "# Пример \"Б\"\n",
    "import time\n",
    "import numpy as np\n",
    "import pandas as pd\n",
    "\n",
    "time0 = time.time()\n",
    "years = np.arange(1966, 2016)\n",
    "arr = pd.Series(pd.date_range('20080224', periods=len(years), freq='11d'), index=years)\n",
    "arr2 = pd.Series(pd.date_range('20060311', periods=len(years), freq='11d'), index=years)\n",
    "\n",
    "df = pd.concat((arr, arr2), axis=1)\n",
    "print('DF До:', df.tail(3), '\\n')\n",
    "abox = {}\n",
    "for slab, j in zip(['d1', 'd2'], [-1, -2]):\n",
    "    ff = df.iloc[:, j]\n",
    "    ts = ff.copy()\n",
    "    for label, value in ff.iteritems():\n",
    "        if not pd.isnull(value):\n",
    "            strVal = '{}{}'.format(label, value.strftime('%m%d'))\n",
    "        else:\n",
    "            if cpar == 's1':\n",
    "                strVal = '{}0101'.format(label)\n",
    "            else:\n",
    "                strVal = '{}1231'.format(label)\n",
    "        ff[label] = pd.to_datetime(strVal)   # O_o\n",
    "    abox[slab] = ff\n",
    "print(ff.head(5))\n",
    "print('DF После:', df.tail(3))\n",
    "print('{:.5f} секунд'.format(time.time() - time0))"
   ]
  }
 ],
 "metadata": {
  "kernelspec": {
   "display_name": "Python 3",
   "language": "python",
   "name": "python3"
  },
  "language_info": {
   "codemirror_mode": {
    "name": "ipython",
    "version": 3
   },
   "file_extension": ".py",
   "mimetype": "text/x-python",
   "name": "python",
   "nbconvert_exporter": "python",
   "pygments_lexer": "ipython3",
   "version": "3.6.3"
  }
 },
 "nbformat": 4,
 "nbformat_minor": 2
}
